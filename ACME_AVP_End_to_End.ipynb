{
 "cells": [
  {
   "cell_type": "markdown",
   "id": "f0de469f",
   "metadata": {},
   "source": [
    "# ACME Customer Collaboration — Cedar + Amazon Verified Permissions\n",
    "\n",
    "This notebook accompanies **Chapter 9** and the appendix of *Authorization in Digital Identity*.\n",
    "It walks through creating an AVP policy store, uploading the Cedar schema and policies, defining entities,\n",
    "and evaluating authorization requests with `is-authorized`.\n",
    "\n",
    "The files that accompany this notebook are available at the [ACME Cedar demo Github repo](https://github.com/windley/acme-cedar-demo)"
   ]
  },
  {
   "cell_type": "markdown",
   "id": "48037ef1",
   "metadata": {},
   "source": [
    "**Note:** This notebook is designed to be run in your own environment with the AWS CLI configured.\n",
    "It uses shell (`bash`) cells that call `aws verifiedpermissions ...`. You’ll need:\n",
    "- AWS CLI v2 (`aws --version`)\n",
    "- An AWS account and region where **Amazon Verified Permissions** is available (e.g., `us-east-1`)\n",
    "- `jq` for a couple of JSON wrapping steps\n",
    "\n",
    "If you prefer, you can copy/paste these commands into your own terminal."
   ]
  },
  {
   "cell_type": "markdown",
   "id": "09db3216",
   "metadata": {},
   "source": [
    "## A.1 Prerequisites"
   ]
  },
  {
   "cell_type": "code",
   "execution_count": 1,
   "id": "e8351b48",
   "metadata": {},
   "outputs": [
    {
     "name": "stdout",
     "output_type": "stream",
     "text": [
      "aws-cli/2.28.11 Python/3.13.7 Darwin/24.6.0 source/arm64\n",
      "us-east-1\n"
     ]
    }
   ],
   "source": [
    "%%bash\n",
    "# Check AWS CLI installation and region (adjust as needed)\n",
    "aws --version || true\n",
    "aws configure get region || aws configure set region us-east-1"
   ]
  },
  {
   "cell_type": "markdown",
   "id": "6dc412f3",
   "metadata": {},
   "source": [
    "## A.2 Create a policy store"
   ]
  },
  {
   "cell_type": "markdown",
   "id": "7e9dcd65",
   "metadata": {},
   "source": [
    "We’ll create a new policy store in **STRICT** mode so AVP validates policy text against the schema."
   ]
  },
  {
   "cell_type": "code",
   "execution_count": 2,
   "id": "06d3727a",
   "metadata": {},
   "outputs": [
    {
     "name": "stdout",
     "output_type": "stream",
     "text": [
      "STORE_ID=7fFVq1AWRV6wxpZeLFfGfz\n"
     ]
    }
   ],
   "source": [
    "%%bash\n",
    "# Create a policy store in STRICT validation mode and capture the ID\n",
    "STORE_ID=$(aws verifiedpermissions create-policy-store   --validation-settings \"mode=STRICT\"   --query policyStoreId --output text)\n",
    "echo \"STORE_ID=${STORE_ID}\"\n",
    "\n",
    "# (Optional) persist locally for later shell sessions\n",
    "echo -n \"${STORE_ID}\" > STORE_ID.txt"
   ]
  },
  {
   "cell_type": "markdown",
   "id": "69adbfb7",
   "metadata": {},
   "source": [
    "## A.3 Upload the Cedar schema"
   ]
  },
  {
   "cell_type": "markdown",
   "id": "849a79e9",
   "metadata": {},
   "source": [
    "AVP expects the Cedar schema in **JSON form** as a string value in the `cedarJson` field.\n",
    "We’ll place the JSON representation into `acme.cedarschema.json`, then wrap it into `schema-definition.json`."
   ]
  },
  {
   "cell_type": "markdown",
   "id": "fd820131",
   "metadata": {},
   "source": [
    "**Saved schema JSON** to `/mnt/data/acme.cedarschema.json`."
   ]
  },
  {
   "cell_type": "code",
   "execution_count": 10,
   "id": "beeaa350",
   "metadata": {},
   "outputs": [
    {
     "name": "stdout",
     "output_type": "stream",
     "text": [
      "{\n",
      "    \"policyStoreId\": \"7fFVq1AWRV6wxpZeLFfGfz\",\n",
      "    \"namespaces\": [\n",
      "        \"ACME\"\n",
      "    ],\n",
      "    \"createdDate\": \"2025-08-21T16:46:19.527971+00:00\",\n",
      "    \"lastUpdatedDate\": \"2025-08-21T16:46:19.527971+00:00\"\n",
      "}\n"
     ]
    }
   ],
   "source": [
    "%%bash\n",
    "# Wrap the schema JSON into the cedarJson field acceptable by AVP\n",
    "# Requires `jq`; if you don't have jq, see the alternative Python cell below.\n",
    "jq -Rs '{cedarJson: .}' acme.cedarschema.json > schema-definition.json\n",
    "\n",
    "STORE_ID=`cat STORE_ID.txt`\n",
    "\n",
    "# Upload to AVP\n",
    "aws verifiedpermissions put-schema   --policy-store-id \"${STORE_ID}\"   --definition file://schema-definition.json"
   ]
  },
  {
   "cell_type": "markdown",
   "id": "a7d1fe0f",
   "metadata": {},
   "source": [
    "## A.4 Uploading policies to AVP"
   ]
  },
  {
   "cell_type": "markdown",
   "id": "d91b2ed7",
   "metadata": {},
   "source": [
    "We’ll create the **customer view**, **employee view**, **owner baseline**, **delegatable share**, and\n",
    "**global unmanaged-device forbid** policies. Each Cedar policy is wrapped for `create-policy` using `jq -Rs`."
   ]
  },
  {
   "cell_type": "markdown",
   "id": "da1738d5",
   "metadata": {},
   "source": [
    "### A.4.1 View policies — Customers"
   ]
  },
  {
   "cell_type": "code",
   "execution_count": 13,
   "id": "b26d3a5f",
   "metadata": {},
   "outputs": [
    {
     "name": "stdout",
     "output_type": "stream",
     "text": [
      "{\n",
      "    \"policyStoreId\": \"7fFVq1AWRV6wxpZeLFfGfz\",\n",
      "    \"policyId\": \"Bq1JmRWfdNrLmKWdPK67Lp\",\n",
      "    \"policyType\": \"STATIC\",\n",
      "    \"actions\": [\n",
      "        {\n",
      "            \"actionType\": \"ACME::Action\",\n",
      "            \"actionId\": \"doc:view\"\n",
      "        }\n",
      "    ],\n",
      "    \"createdDate\": \"2025-08-21T16:48:00.460161+00:00\",\n",
      "    \"lastUpdatedDate\": \"2025-08-21T16:48:00.460161+00:00\",\n",
      "    \"effect\": \"Permit\"\n",
      "}\n"
     ]
    }
   ],
   "source": [
    "%%bash\n",
    "# Wrap and upload the customer view policy\n",
    "jq -Rs --arg desc \"Customer view policy\"   '{static:{description:$desc,statement:.}}'   policy-customer-view.cedar > policy-customer-view.json\n",
    "\n",
    "STORE_ID=`cat STORE_ID.txt`\n",
    "\n",
    "aws verifiedpermissions create-policy   --policy-store-id \"${STORE_ID}\"   --definition file://policy-customer-view.json"
   ]
  },
  {
   "cell_type": "markdown",
   "id": "9ba48ccd",
   "metadata": {},
   "source": [
    "### A.4.1 View policies — Employees"
   ]
  },
  {
   "cell_type": "code",
   "execution_count": 15,
   "id": "616acea6",
   "metadata": {},
   "outputs": [
    {
     "name": "stdout",
     "output_type": "stream",
     "text": [
      "{\n",
      "    \"policyStoreId\": \"7fFVq1AWRV6wxpZeLFfGfz\",\n",
      "    \"policyId\": \"HyUnWSe8reMvMgLdyFMVkN\",\n",
      "    \"policyType\": \"STATIC\",\n",
      "    \"actions\": [\n",
      "        {\n",
      "            \"actionType\": \"ACME::Action\",\n",
      "            \"actionId\": \"doc:view\"\n",
      "        }\n",
      "    ],\n",
      "    \"createdDate\": \"2025-08-21T16:48:51.705168+00:00\",\n",
      "    \"lastUpdatedDate\": \"2025-08-21T16:48:51.705168+00:00\",\n",
      "    \"effect\": \"Permit\"\n",
      "}\n"
     ]
    }
   ],
   "source": [
    "%%bash\n",
    "jq -Rs --arg desc \"Employee view policy\"   '{static:{description:$desc,statement:.}}'   policy-employee-view.cedar > policy-employee-view.json\n",
    "\n",
    "STORE_ID=`cat STORE_ID.txt`\n",
    "\n",
    "aws verifiedpermissions create-policy   --policy-store-id \"${STORE_ID}\"   --definition file://policy-employee-view.json"
   ]
  },
  {
   "cell_type": "markdown",
   "id": "68854e7d",
   "metadata": {},
   "source": [
    "### A.4.2 Owner can do everything"
   ]
  },
  {
   "cell_type": "code",
   "execution_count": 16,
   "id": "d0582971",
   "metadata": {},
   "outputs": [
    {
     "name": "stdout",
     "output_type": "stream",
     "text": [
      "{\n",
      "    \"policyStoreId\": \"7fFVq1AWRV6wxpZeLFfGfz\",\n",
      "    \"policyId\": \"77pVSZuJCfKjiQaGU1m8gp\",\n",
      "    \"policyType\": \"STATIC\",\n",
      "    \"actions\": [\n",
      "        {\n",
      "            \"actionType\": \"ACME::Action\",\n",
      "            \"actionId\": \"doc:view\"\n",
      "        },\n",
      "        {\n",
      "            \"actionType\": \"ACME::Action\",\n",
      "            \"actionId\": \"doc:edit\"\n",
      "        },\n",
      "        {\n",
      "            \"actionType\": \"ACME::Action\",\n",
      "            \"actionId\": \"doc:share\"\n",
      "        }\n",
      "    ],\n",
      "    \"createdDate\": \"2025-08-21T16:49:07.571740+00:00\",\n",
      "    \"lastUpdatedDate\": \"2025-08-21T16:49:07.571740+00:00\",\n",
      "    \"effect\": \"Permit\"\n",
      "}\n"
     ]
    }
   ],
   "source": [
    "%%bash\n",
    "jq -Rs --arg desc \"Owner baseline: all actions on owned docs\"   '{static:{description:$desc,statement:.}}'  policy-owner-all.cedar > policy-owner-all.json\n",
    "\n",
    "STORE_ID=`cat STORE_ID.txt`\n",
    "\n",
    "aws verifiedpermissions create-policy   --policy-store-id \"${STORE_ID}\"   --definition file://policy-owner-all.json"
   ]
  },
  {
   "cell_type": "markdown",
   "id": "c473ffbc",
   "metadata": {},
   "source": [
    "### A.4.3 Employees can share if delegatable"
   ]
  },
  {
   "cell_type": "code",
   "execution_count": 17,
   "id": "c5127414",
   "metadata": {},
   "outputs": [
    {
     "name": "stdout",
     "output_type": "stream",
     "text": [
      "{\n",
      "    \"policyStoreId\": \"7fFVq1AWRV6wxpZeLFfGfz\",\n",
      "    \"policyId\": \"DqbhaEBDrVKzZHLt92X3jq\",\n",
      "    \"policyType\": \"STATIC\",\n",
      "    \"actions\": [\n",
      "        {\n",
      "            \"actionType\": \"ACME::Action\",\n",
      "            \"actionId\": \"doc:share\"\n",
      "        }\n",
      "    ],\n",
      "    \"createdDate\": \"2025-08-21T16:49:31.376160+00:00\",\n",
      "    \"lastUpdatedDate\": \"2025-08-21T16:49:31.376160+00:00\",\n",
      "    \"effect\": \"Permit\"\n",
      "}\n"
     ]
    }
   ],
   "source": [
    "%%bash\n",
    "jq -Rs --arg desc \"Employees can share if delegatable\"   '{static:{description:$desc,statement:.}}'  policy-share.cedar > policy-share.json\n",
    "\n",
    "STORE_ID=`cat STORE_ID.txt`\n",
    "\n",
    "aws verifiedpermissions create-policy   --policy-store-id \"${STORE_ID}\"   --definition file://policy-share.json"
   ]
  },
  {
   "cell_type": "markdown",
   "id": "0bdc6f03",
   "metadata": {},
   "source": [
    "### A.4.4 Forbid access from unmanaged devices"
   ]
  },
  {
   "cell_type": "code",
   "execution_count": 18,
   "id": "6a9e255b",
   "metadata": {},
   "outputs": [
    {
     "name": "stdout",
     "output_type": "stream",
     "text": [
      "{\n",
      "    \"policyStoreId\": \"7fFVq1AWRV6wxpZeLFfGfz\",\n",
      "    \"policyId\": \"QWB5iNYH11GX4Q9HRsPT8a\",\n",
      "    \"policyType\": \"STATIC\",\n",
      "    \"createdDate\": \"2025-08-21T16:49:58.422962+00:00\",\n",
      "    \"lastUpdatedDate\": \"2025-08-21T16:49:58.422962+00:00\",\n",
      "    \"effect\": \"Forbid\"\n",
      "}\n"
     ]
    }
   ],
   "source": [
    "%%bash\n",
    "jq -Rs --arg desc \"Global forbid for unmanaged devices\"   '{static:{description:$desc,statement:.}}'  policy-managed-device.cedar > policy-managed-device.json\n",
    "\n",
    "STORE_ID=`cat STORE_ID.txt`\n",
    "\n",
    "aws verifiedpermissions create-policy   --policy-store-id \"${STORE_ID}\"   --definition file://policy-managed-device.json"
   ]
  },
  {
   "cell_type": "markdown",
   "id": "0be0fca8",
   "metadata": {},
   "source": [
    "## A.5 Defining entities"
   ]
  },
  {
   "cell_type": "markdown",
   "id": "cb5b1137",
   "metadata": {},
   "source": [
    "In production, ACME builds the entity snapshot from a **relationship graph** at request time.\n",
    "For this walkthrough, we’ll keep a single file `acme-entities.json` in the AVP **entityList** format (memberships via `parents`)."
   ]
  },
  {
   "cell_type": "markdown",
   "id": "1f9073a3",
   "metadata": {},
   "source": [
    "**Saved entities** to `acme-entities.json`."
   ]
  },
  {
   "cell_type": "markdown",
   "id": "ed8aac0d",
   "metadata": {},
   "source": [
    "### A.5.5 Using the entity definitions"
   ]
  },
  {
   "cell_type": "markdown",
   "id": "11e106ee",
   "metadata": {},
   "source": [
    "In this notebook, we re-use the same `acme-entities.json` for each request.\n",
    "In ACME’s production system, the PEP would build a per-request slice from the relationship graph instead of loading a static file."
   ]
  },
  {
   "cell_type": "markdown",
   "id": "0453f4d1",
   "metadata": {},
   "source": [
    "## A.6 Evaluating authorization requests"
   ]
  },
  {
   "cell_type": "markdown",
   "id": "1d5c6c36",
   "metadata": {},
   "source": [
    "### A.6.1 Owner actions (Alice)"
   ]
  },
  {
   "cell_type": "code",
   "execution_count": 19,
   "id": "96542afd",
   "metadata": {},
   "outputs": [
    {
     "name": "stdout",
     "output_type": "stream",
     "text": [
      "{\n",
      "    \"decision\": \"ALLOW\",\n",
      "    \"determiningPolicies\": [\n",
      "        {\n",
      "            \"policyId\": \"77pVSZuJCfKjiQaGU1m8gp\"\n",
      "        }\n",
      "    ],\n",
      "    \"errors\": []\n",
      "}\n"
     ]
    }
   ],
   "source": [
    "%%bash\n",
    "STORE_ID=`cat STORE_ID.txt`\n",
    "\n",
    "aws verifiedpermissions is-authorized   --policy-store-id \"${STORE_ID}\"   --principal entityType=ACME::Employee,entityId=alice   --action actionType=ACME::Action,actionId=doc:edit   --resource entityType=ACME::Document,entityId=q3-plan   --context '{\"contextMap\":{\"device\":{\"record\":{\"managed\":{\"boolean\":true}}}}}'   --entities file://acme-entities.json"
   ]
  },
  {
   "cell_type": "markdown",
   "id": "7800758a",
   "metadata": {},
   "source": [
    "### A.6.2 Customer viewing (Kate)"
   ]
  },
  {
   "cell_type": "code",
   "execution_count": 20,
   "id": "c94fc30b",
   "metadata": {},
   "outputs": [
    {
     "name": "stdout",
     "output_type": "stream",
     "text": [
      "{\n",
      "    \"decision\": \"ALLOW\",\n",
      "    \"determiningPolicies\": [\n",
      "        {\n",
      "            \"policyId\": \"Bq1JmRWfdNrLmKWdPK67Lp\"\n",
      "        }\n",
      "    ],\n",
      "    \"errors\": []\n",
      "}\n"
     ]
    }
   ],
   "source": [
    "%%bash\n",
    "STORE_ID=`cat STORE_ID.txt`\n",
    "\n",
    "aws verifiedpermissions is-authorized   --policy-store-id \"${STORE_ID}\"   --principal entityType=ACME::Customer,entityId=kate   --action actionType=ACME::Action,actionId=doc:view   --resource entityType=ACME::Document,entityId=q3-plan   --entities file://acme-entities.json"
   ]
  },
  {
   "cell_type": "markdown",
   "id": "3adf43cf",
   "metadata": {},
   "source": [
    "### A.6.3 Employee sharing (Bob, managed device)"
   ]
  },
  {
   "cell_type": "code",
   "execution_count": 21,
   "id": "e0c38bbe",
   "metadata": {},
   "outputs": [
    {
     "name": "stdout",
     "output_type": "stream",
     "text": [
      "{\n",
      "    \"decision\": \"ALLOW\",\n",
      "    \"determiningPolicies\": [\n",
      "        {\n",
      "            \"policyId\": \"DqbhaEBDrVKzZHLt92X3jq\"\n",
      "        }\n",
      "    ],\n",
      "    \"errors\": []\n",
      "}\n"
     ]
    }
   ],
   "source": [
    "%%bash\n",
    "STORE_ID=`cat STORE_ID.txt`\n",
    "\n",
    "aws verifiedpermissions is-authorized   --policy-store-id \"${STORE_ID}\"   --principal entityType=ACME::Employee,entityId=bob   --action actionType=ACME::Action,actionId=doc:share   --resource entityType=ACME::Document,entityId=q3-plan   --context '{\"contextMap\":{\"device\":{\"record\":{\"managed\":{\"boolean\":true}}}}}'   --entities file://acme-entities.json"
   ]
  },
  {
   "cell_type": "markdown",
   "id": "a29f88bc",
   "metadata": {},
   "source": [
    "### A.6.4 Unmanaged devices (Bob → DENY)"
   ]
  },
  {
   "cell_type": "code",
   "execution_count": 22,
   "id": "abe9a935",
   "metadata": {},
   "outputs": [
    {
     "name": "stdout",
     "output_type": "stream",
     "text": [
      "{\n",
      "    \"decision\": \"DENY\",\n",
      "    \"determiningPolicies\": [\n",
      "        {\n",
      "            \"policyId\": \"QWB5iNYH11GX4Q9HRsPT8a\"\n",
      "        }\n",
      "    ],\n",
      "    \"errors\": []\n",
      "}\n"
     ]
    }
   ],
   "source": [
    "%%bash\n",
    "STORE_ID=`cat STORE_ID.txt`\n",
    "\n",
    "aws verifiedpermissions is-authorized   --policy-store-id \"${STORE_ID}\"   --principal entityType=ACME::Employee,entityId=bob   --action actionType=ACME::Action,actionId=doc:view   --resource entityType=ACME::Document,entityId=q3-plan   --context '{\"contextMap\":{\"device\":{\"record\":{\"managed\":{\"boolean\":false}}}}}'   --entities file://acme-entities.json"
   ]
  },
  {
   "cell_type": "markdown",
   "id": "ad058659",
   "metadata": {},
   "source": [
    "## A.7 Wrapping up the end-to-end example"
   ]
  },
  {
   "cell_type": "markdown",
   "id": "df00c924",
   "metadata": {},
   "source": [
    "You’ve seen how ACME’s Customer Collaboration platform uses Cedar with AVP to combine ownership baselines,\n",
    "customer sharing, discretionary delegation, and global ABAC constraints. In production, replace the static entities file\n",
    "with a per-request slice built by your PEP from the organization’s relationship graph, and keep policies under test to evolve safely."
   ]
  }
 ],
 "metadata": {
  "kernelspec": {
   "display_name": "Python 3 (ipykernel)",
   "language": "python",
   "name": "python3"
  },
  "language_info": {
   "codemirror_mode": {
    "name": "ipython",
    "version": 3
   },
   "file_extension": ".py",
   "mimetype": "text/x-python",
   "name": "python",
   "nbconvert_exporter": "python",
   "pygments_lexer": "ipython3",
   "version": "3.13.7"
  }
 },
 "nbformat": 4,
 "nbformat_minor": 5
}
